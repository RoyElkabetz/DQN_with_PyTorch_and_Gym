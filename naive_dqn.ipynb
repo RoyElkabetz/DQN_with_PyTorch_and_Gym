{
  "nbformat": 4,
  "nbformat_minor": 0,
  "metadata": {
    "colab": {
      "name": "naive_dqn.ipynb",
      "provenance": [],
      "collapsed_sections": [],
      "authorship_tag": "ABX9TyOWtztacireLYtjc2q7rnlg",
      "include_colab_link": true
    },
    "kernelspec": {
      "name": "python3",
      "display_name": "Python 3"
    },
    "language_info": {
      "name": "python"
    },
    "widgets": {
      "application/vnd.jupyter.widget-state+json": {
        "be39f595252b4a9e9c71aaef8246a493": {
          "model_module": "@jupyter-widgets/controls",
          "model_name": "HBoxModel",
          "state": {
            "_view_name": "HBoxView",
            "_dom_classes": [],
            "_model_name": "HBoxModel",
            "_view_module": "@jupyter-widgets/controls",
            "_model_module_version": "1.5.0",
            "_view_count": null,
            "_view_module_version": "1.5.0",
            "box_style": "",
            "layout": "IPY_MODEL_49ddf05b900342f4b6b3060388228ba8",
            "_model_module": "@jupyter-widgets/controls",
            "children": [
              "IPY_MODEL_b5dacb86529c4958945fe2bab1672f22",
              "IPY_MODEL_b6b8c2d7b0d94423b5ba86a40c43481f"
            ]
          }
        },
        "49ddf05b900342f4b6b3060388228ba8": {
          "model_module": "@jupyter-widgets/base",
          "model_name": "LayoutModel",
          "state": {
            "_view_name": "LayoutView",
            "grid_template_rows": null,
            "right": null,
            "justify_content": null,
            "_view_module": "@jupyter-widgets/base",
            "overflow": null,
            "_model_module_version": "1.2.0",
            "_view_count": null,
            "flex_flow": null,
            "width": null,
            "min_width": null,
            "border": null,
            "align_items": null,
            "bottom": null,
            "_model_module": "@jupyter-widgets/base",
            "top": null,
            "grid_column": null,
            "overflow_y": null,
            "overflow_x": null,
            "grid_auto_flow": null,
            "grid_area": null,
            "grid_template_columns": null,
            "flex": null,
            "_model_name": "LayoutModel",
            "justify_items": null,
            "grid_row": null,
            "max_height": null,
            "align_content": null,
            "visibility": null,
            "align_self": null,
            "height": null,
            "min_height": null,
            "padding": null,
            "grid_auto_rows": null,
            "grid_gap": null,
            "max_width": null,
            "order": null,
            "_view_module_version": "1.2.0",
            "grid_template_areas": null,
            "object_position": null,
            "object_fit": null,
            "grid_auto_columns": null,
            "margin": null,
            "display": null,
            "left": null
          }
        },
        "b5dacb86529c4958945fe2bab1672f22": {
          "model_module": "@jupyter-widgets/controls",
          "model_name": "FloatProgressModel",
          "state": {
            "_view_name": "ProgressView",
            "style": "IPY_MODEL_065887a054324296bd777f1d0a0dc32e",
            "_dom_classes": [],
            "description": "100%",
            "_model_name": "FloatProgressModel",
            "bar_style": "success",
            "max": 10000,
            "_view_module": "@jupyter-widgets/controls",
            "_model_module_version": "1.5.0",
            "value": 10000,
            "_view_count": null,
            "_view_module_version": "1.5.0",
            "orientation": "horizontal",
            "min": 0,
            "description_tooltip": null,
            "_model_module": "@jupyter-widgets/controls",
            "layout": "IPY_MODEL_e58c67d991ac492d9a58102b6552084b"
          }
        },
        "b6b8c2d7b0d94423b5ba86a40c43481f": {
          "model_module": "@jupyter-widgets/controls",
          "model_name": "HTMLModel",
          "state": {
            "_view_name": "HTMLView",
            "style": "IPY_MODEL_aeceb3e4b5bf485283edb838677a406b",
            "_dom_classes": [],
            "description": "",
            "_model_name": "HTMLModel",
            "placeholder": "​",
            "_view_module": "@jupyter-widgets/controls",
            "_model_module_version": "1.5.0",
            "value": " 10000/10000 [08:34&lt;00:00, 19.44it/s]",
            "_view_count": null,
            "_view_module_version": "1.5.0",
            "description_tooltip": null,
            "_model_module": "@jupyter-widgets/controls",
            "layout": "IPY_MODEL_c01e24946c384b4b8b719646226ddfb4"
          }
        },
        "065887a054324296bd777f1d0a0dc32e": {
          "model_module": "@jupyter-widgets/controls",
          "model_name": "ProgressStyleModel",
          "state": {
            "_view_name": "StyleView",
            "_model_name": "ProgressStyleModel",
            "description_width": "initial",
            "_view_module": "@jupyter-widgets/base",
            "_model_module_version": "1.5.0",
            "_view_count": null,
            "_view_module_version": "1.2.0",
            "bar_color": null,
            "_model_module": "@jupyter-widgets/controls"
          }
        },
        "e58c67d991ac492d9a58102b6552084b": {
          "model_module": "@jupyter-widgets/base",
          "model_name": "LayoutModel",
          "state": {
            "_view_name": "LayoutView",
            "grid_template_rows": null,
            "right": null,
            "justify_content": null,
            "_view_module": "@jupyter-widgets/base",
            "overflow": null,
            "_model_module_version": "1.2.0",
            "_view_count": null,
            "flex_flow": null,
            "width": null,
            "min_width": null,
            "border": null,
            "align_items": null,
            "bottom": null,
            "_model_module": "@jupyter-widgets/base",
            "top": null,
            "grid_column": null,
            "overflow_y": null,
            "overflow_x": null,
            "grid_auto_flow": null,
            "grid_area": null,
            "grid_template_columns": null,
            "flex": null,
            "_model_name": "LayoutModel",
            "justify_items": null,
            "grid_row": null,
            "max_height": null,
            "align_content": null,
            "visibility": null,
            "align_self": null,
            "height": null,
            "min_height": null,
            "padding": null,
            "grid_auto_rows": null,
            "grid_gap": null,
            "max_width": null,
            "order": null,
            "_view_module_version": "1.2.0",
            "grid_template_areas": null,
            "object_position": null,
            "object_fit": null,
            "grid_auto_columns": null,
            "margin": null,
            "display": null,
            "left": null
          }
        },
        "aeceb3e4b5bf485283edb838677a406b": {
          "model_module": "@jupyter-widgets/controls",
          "model_name": "DescriptionStyleModel",
          "state": {
            "_view_name": "StyleView",
            "_model_name": "DescriptionStyleModel",
            "description_width": "",
            "_view_module": "@jupyter-widgets/base",
            "_model_module_version": "1.5.0",
            "_view_count": null,
            "_view_module_version": "1.2.0",
            "_model_module": "@jupyter-widgets/controls"
          }
        },
        "c01e24946c384b4b8b719646226ddfb4": {
          "model_module": "@jupyter-widgets/base",
          "model_name": "LayoutModel",
          "state": {
            "_view_name": "LayoutView",
            "grid_template_rows": null,
            "right": null,
            "justify_content": null,
            "_view_module": "@jupyter-widgets/base",
            "overflow": null,
            "_model_module_version": "1.2.0",
            "_view_count": null,
            "flex_flow": null,
            "width": null,
            "min_width": null,
            "border": null,
            "align_items": null,
            "bottom": null,
            "_model_module": "@jupyter-widgets/base",
            "top": null,
            "grid_column": null,
            "overflow_y": null,
            "overflow_x": null,
            "grid_auto_flow": null,
            "grid_area": null,
            "grid_template_columns": null,
            "flex": null,
            "_model_name": "LayoutModel",
            "justify_items": null,
            "grid_row": null,
            "max_height": null,
            "align_content": null,
            "visibility": null,
            "align_self": null,
            "height": null,
            "min_height": null,
            "padding": null,
            "grid_auto_rows": null,
            "grid_gap": null,
            "max_width": null,
            "order": null,
            "_view_module_version": "1.2.0",
            "grid_template_areas": null,
            "object_position": null,
            "object_fit": null,
            "grid_auto_columns": null,
            "margin": null,
            "display": null,
            "left": null
          }
        }
      }
    }
  },
  "cells": [
    {
      "cell_type": "markdown",
      "metadata": {
        "id": "view-in-github",
        "colab_type": "text"
      },
      "source": [
        "<a href=\"https://colab.research.google.com/github/RoyElkabetz/Q_Learning_course/blob/main/naive_dqn.ipynb\" target=\"_parent\"><img src=\"https://colab.research.google.com/assets/colab-badge.svg\" alt=\"Open In Colab\"/></a>"
      ]
    },
    {
      "cell_type": "code",
      "metadata": {
        "colab": {
          "base_uri": "https://localhost:8080/"
        },
        "id": "-1LxKjPw4joT",
        "outputId": "cb7f66de-a51a-4938-efe5-ad31e9871853"
      },
      "source": [
        "## uncomment only if running from google.colab\n",
        "# clone the git reposetory\n",
        "!git clone https://github.com/RoyElkabetz/Q_Learning_course.git\n",
        "\n",
        "# add path to .py files for import\n",
        "import sys\n",
        "sys.path.insert(1, \"/content/Q_Learning_course\")"
      ],
      "execution_count": 1,
      "outputs": [
        {
          "output_type": "stream",
          "text": [
            "Cloning into 'Q_Learning_course'...\n",
            "remote: Enumerating objects: 68, done.\u001b[K\n",
            "remote: Counting objects: 100% (68/68), done.\u001b[K\n",
            "remote: Compressing objects: 100% (53/53), done.\u001b[K\n",
            "remote: Total 68 (delta 26), reused 53 (delta 13), pack-reused 0\u001b[K\n",
            "Unpacking objects: 100% (68/68), done.\n"
          ],
          "name": "stdout"
        }
      ]
    },
    {
      "cell_type": "code",
      "metadata": {
        "colab": {
          "base_uri": "https://localhost:8080/"
        },
        "id": "djhVFIZR4nUz",
        "outputId": "e9db8b60-949a-467f-80aa-eb989a672d82"
      },
      "source": [
        "!pip install gym"
      ],
      "execution_count": 2,
      "outputs": [
        {
          "output_type": "stream",
          "text": [
            "Requirement already satisfied: gym in /usr/local/lib/python3.7/dist-packages (0.17.3)\n",
            "Requirement already satisfied: numpy>=1.10.4 in /usr/local/lib/python3.7/dist-packages (from gym) (1.19.5)\n",
            "Requirement already satisfied: pyglet<=1.5.0,>=1.4.0 in /usr/local/lib/python3.7/dist-packages (from gym) (1.5.0)\n",
            "Requirement already satisfied: scipy in /usr/local/lib/python3.7/dist-packages (from gym) (1.4.1)\n",
            "Requirement already satisfied: cloudpickle<1.7.0,>=1.2.0 in /usr/local/lib/python3.7/dist-packages (from gym) (1.3.0)\n",
            "Requirement already satisfied: future in /usr/local/lib/python3.7/dist-packages (from pyglet<=1.5.0,>=1.4.0->gym) (0.16.0)\n"
          ],
          "name": "stdout"
        }
      ]
    },
    {
      "cell_type": "code",
      "metadata": {
        "id": "3FiuxKe-4oD_"
      },
      "source": [
        "import gym\n",
        "import torch as T\n",
        "import numpy as np\n",
        "import matplotlib.pyplot as plt\n",
        "from q_learning_agents import DQNAgent\n",
        "from utils import plot_learning_curve\n",
        "from tqdm.auto import tqdm"
      ],
      "execution_count": 3,
      "outputs": []
    },
    {
      "cell_type": "code",
      "metadata": {
        "colab": {
          "base_uri": "https://localhost:8080/",
          "height": 1000,
          "referenced_widgets": [
            "be39f595252b4a9e9c71aaef8246a493",
            "49ddf05b900342f4b6b3060388228ba8",
            "b5dacb86529c4958945fe2bab1672f22",
            "b6b8c2d7b0d94423b5ba86a40c43481f",
            "065887a054324296bd777f1d0a0dc32e",
            "e58c67d991ac492d9a58102b6552084b",
            "aeceb3e4b5bf485283edb838677a406b",
            "c01e24946c384b4b8b719646226ddfb4"
          ]
        },
        "id": "A23Dl7Uv4u6N",
        "outputId": "9b431dcd-fa03-4540-a4ef-0a5fda0c8023"
      },
      "source": [
        "env = gym.make('CartPole-v1')\n",
        "n_games = 10000\n",
        "win_prc = []\n",
        "scores = []\n",
        "eps_history = []\n",
        "\n",
        "\n",
        "agent = DQNAgent(input_dims=env.observation_space.shape, n_actions=env.action_space.n)\n",
        "\n",
        "for i in tqdm(range(n_games)):\n",
        "\tdone = False\n",
        "\tobs = env.reset()\n",
        "\tscore = 0\n",
        "\n",
        "\twhile not done:\n",
        "\t\taction = agent.choose_action(obs)\n",
        "\t\tobs_, reward, done, info = env.step(action)\n",
        "\t\tscore += reward\n",
        "\t\tagent.learn(obs, action, reward, obs_)\n",
        "\t\tobs = obs_\n",
        "\tscores.append(score)\n",
        "\teps_history.append(agent.epsilon)\n",
        "\tif i % 100 == 0:\n",
        "\t\tavg_score = np.mean(scores[-100:])\n",
        "\t\tprint('| game: {:10d}| score: {:2.2f} | avg_score: {:2.2f} | epsilon: {:2.8f} |'.format(i, score, avg_score, agent.epsilon))\n",
        "env.close()"
      ],
      "execution_count": 4,
      "outputs": [
        {
          "output_type": "display_data",
          "data": {
            "application/vnd.jupyter.widget-view+json": {
              "model_id": "be39f595252b4a9e9c71aaef8246a493",
              "version_minor": 0,
              "version_major": 2
            },
            "text/plain": [
              "HBox(children=(FloatProgress(value=0.0, max=10000.0), HTML(value='')))"
            ]
          },
          "metadata": {
            "tags": []
          }
        },
        {
          "output_type": "stream",
          "text": [
            "| game:          0| score: 8.00 | avg_score: 8.00 | epsilon: 0.01000000 |\n",
            "| game:        100| score: 19.00 | avg_score: 14.89 | epsilon: 0.01000000 |\n",
            "| game:        200| score: 17.00 | avg_score: 21.80 | epsilon: 0.01000000 |\n",
            "| game:        300| score: 20.00 | avg_score: 19.33 | epsilon: 0.01000000 |\n",
            "| game:        400| score: 28.00 | avg_score: 27.65 | epsilon: 0.01000000 |\n",
            "| game:        500| score: 74.00 | avg_score: 45.80 | epsilon: 0.01000000 |\n",
            "| game:        600| score: 48.00 | avg_score: 43.64 | epsilon: 0.01000000 |\n",
            "| game:        700| score: 37.00 | avg_score: 42.27 | epsilon: 0.01000000 |\n",
            "| game:        800| score: 15.00 | avg_score: 25.70 | epsilon: 0.01000000 |\n",
            "| game:        900| score: 20.00 | avg_score: 15.60 | epsilon: 0.01000000 |\n",
            "| game:       1000| score: 39.00 | avg_score: 54.66 | epsilon: 0.01000000 |\n",
            "| game:       1100| score: 28.00 | avg_score: 32.84 | epsilon: 0.01000000 |\n",
            "| game:       1200| score: 33.00 | avg_score: 27.29 | epsilon: 0.01000000 |\n",
            "| game:       1300| score: 34.00 | avg_score: 25.27 | epsilon: 0.01000000 |\n",
            "| game:       1400| score: 18.00 | avg_score: 26.26 | epsilon: 0.01000000 |\n",
            "| game:       1500| score: 38.00 | avg_score: 26.70 | epsilon: 0.01000000 |\n",
            "| game:       1600| score: 23.00 | avg_score: 26.83 | epsilon: 0.01000000 |\n",
            "| game:       1700| score: 30.00 | avg_score: 27.22 | epsilon: 0.01000000 |\n",
            "| game:       1800| score: 31.00 | avg_score: 28.84 | epsilon: 0.01000000 |\n",
            "| game:       1900| score: 36.00 | avg_score: 33.57 | epsilon: 0.01000000 |\n",
            "| game:       2000| score: 30.00 | avg_score: 31.03 | epsilon: 0.01000000 |\n",
            "| game:       2100| score: 11.00 | avg_score: 22.47 | epsilon: 0.01000000 |\n",
            "| game:       2200| score: 8.00 | avg_score: 9.43 | epsilon: 0.01000000 |\n",
            "| game:       2300| score: 10.00 | avg_score: 9.68 | epsilon: 0.01000000 |\n",
            "| game:       2400| score: 10.00 | avg_score: 9.33 | epsilon: 0.01000000 |\n",
            "| game:       2500| score: 10.00 | avg_score: 9.43 | epsilon: 0.01000000 |\n",
            "| game:       2600| score: 11.00 | avg_score: 11.61 | epsilon: 0.01000000 |\n",
            "| game:       2700| score: 9.00 | avg_score: 9.29 | epsilon: 0.01000000 |\n",
            "| game:       2800| score: 111.00 | avg_score: 51.30 | epsilon: 0.01000000 |\n",
            "| game:       2900| score: 48.00 | avg_score: 114.74 | epsilon: 0.01000000 |\n",
            "| game:       3000| score: 81.00 | avg_score: 93.00 | epsilon: 0.01000000 |\n",
            "| game:       3100| score: 39.00 | avg_score: 70.15 | epsilon: 0.01000000 |\n",
            "| game:       3200| score: 49.00 | avg_score: 77.83 | epsilon: 0.01000000 |\n",
            "| game:       3300| score: 53.00 | avg_score: 69.62 | epsilon: 0.01000000 |\n",
            "| game:       3400| score: 154.00 | avg_score: 63.73 | epsilon: 0.01000000 |\n",
            "| game:       3500| score: 289.00 | avg_score: 74.87 | epsilon: 0.01000000 |\n",
            "| game:       3600| score: 37.00 | avg_score: 68.20 | epsilon: 0.01000000 |\n",
            "| game:       3700| score: 79.00 | avg_score: 59.93 | epsilon: 0.01000000 |\n",
            "| game:       3800| score: 42.00 | avg_score: 59.02 | epsilon: 0.01000000 |\n",
            "| game:       3900| score: 24.00 | avg_score: 51.47 | epsilon: 0.01000000 |\n",
            "| game:       4000| score: 77.00 | avg_score: 54.49 | epsilon: 0.01000000 |\n",
            "| game:       4100| score: 34.00 | avg_score: 57.02 | epsilon: 0.01000000 |\n",
            "| game:       4200| score: 28.00 | avg_score: 54.56 | epsilon: 0.01000000 |\n",
            "| game:       4300| score: 28.00 | avg_score: 58.36 | epsilon: 0.01000000 |\n",
            "| game:       4400| score: 28.00 | avg_score: 48.27 | epsilon: 0.01000000 |\n",
            "| game:       4500| score: 40.00 | avg_score: 53.18 | epsilon: 0.01000000 |\n",
            "| game:       4600| score: 53.00 | avg_score: 56.38 | epsilon: 0.01000000 |\n",
            "| game:       4700| score: 27.00 | avg_score: 51.42 | epsilon: 0.01000000 |\n",
            "| game:       4800| score: 106.00 | avg_score: 53.06 | epsilon: 0.01000000 |\n",
            "| game:       4900| score: 26.00 | avg_score: 58.42 | epsilon: 0.01000000 |\n",
            "| game:       5000| score: 34.00 | avg_score: 46.36 | epsilon: 0.01000000 |\n",
            "| game:       5100| score: 33.00 | avg_score: 43.58 | epsilon: 0.01000000 |\n",
            "| game:       5200| score: 30.00 | avg_score: 50.01 | epsilon: 0.01000000 |\n",
            "| game:       5300| score: 44.00 | avg_score: 42.14 | epsilon: 0.01000000 |\n",
            "| game:       5400| score: 50.00 | avg_score: 44.20 | epsilon: 0.01000000 |\n",
            "| game:       5500| score: 32.00 | avg_score: 41.45 | epsilon: 0.01000000 |\n",
            "| game:       5600| score: 23.00 | avg_score: 46.04 | epsilon: 0.01000000 |\n",
            "| game:       5700| score: 43.00 | avg_score: 38.56 | epsilon: 0.01000000 |\n",
            "| game:       5800| score: 49.00 | avg_score: 40.59 | epsilon: 0.01000000 |\n",
            "| game:       5900| score: 103.00 | avg_score: 108.76 | epsilon: 0.01000000 |\n",
            "| game:       6000| score: 49.00 | avg_score: 65.20 | epsilon: 0.01000000 |\n",
            "| game:       6100| score: 28.00 | avg_score: 34.54 | epsilon: 0.01000000 |\n",
            "| game:       6200| score: 19.00 | avg_score: 25.71 | epsilon: 0.01000000 |\n",
            "| game:       6300| score: 21.00 | avg_score: 22.47 | epsilon: 0.01000000 |\n",
            "| game:       6400| score: 23.00 | avg_score: 24.72 | epsilon: 0.01000000 |\n",
            "| game:       6500| score: 22.00 | avg_score: 26.87 | epsilon: 0.01000000 |\n",
            "| game:       6600| score: 32.00 | avg_score: 27.79 | epsilon: 0.01000000 |\n",
            "| game:       6700| score: 24.00 | avg_score: 26.72 | epsilon: 0.01000000 |\n",
            "| game:       6800| score: 26.00 | avg_score: 26.64 | epsilon: 0.01000000 |\n",
            "| game:       6900| score: 25.00 | avg_score: 28.13 | epsilon: 0.01000000 |\n",
            "| game:       7000| score: 39.00 | avg_score: 27.71 | epsilon: 0.01000000 |\n",
            "| game:       7100| score: 27.00 | avg_score: 27.35 | epsilon: 0.01000000 |\n",
            "| game:       7200| score: 27.00 | avg_score: 29.12 | epsilon: 0.01000000 |\n",
            "| game:       7300| score: 29.00 | avg_score: 29.87 | epsilon: 0.01000000 |\n",
            "| game:       7400| score: 35.00 | avg_score: 30.85 | epsilon: 0.01000000 |\n",
            "| game:       7500| score: 30.00 | avg_score: 32.41 | epsilon: 0.01000000 |\n",
            "| game:       7600| score: 24.00 | avg_score: 35.72 | epsilon: 0.01000000 |\n",
            "| game:       7700| score: 31.00 | avg_score: 34.27 | epsilon: 0.01000000 |\n",
            "| game:       7800| score: 55.00 | avg_score: 37.50 | epsilon: 0.01000000 |\n",
            "| game:       7900| score: 39.00 | avg_score: 40.77 | epsilon: 0.01000000 |\n",
            "| game:       8000| score: 55.00 | avg_score: 42.55 | epsilon: 0.01000000 |\n",
            "| game:       8100| score: 41.00 | avg_score: 45.54 | epsilon: 0.01000000 |\n",
            "| game:       8200| score: 39.00 | avg_score: 42.91 | epsilon: 0.01000000 |\n",
            "| game:       8300| score: 37.00 | avg_score: 43.21 | epsilon: 0.01000000 |\n",
            "| game:       8400| score: 37.00 | avg_score: 50.00 | epsilon: 0.01000000 |\n",
            "| game:       8500| score: 51.00 | avg_score: 53.78 | epsilon: 0.01000000 |\n",
            "| game:       8600| score: 70.00 | avg_score: 62.29 | epsilon: 0.01000000 |\n",
            "| game:       8700| score: 9.00 | avg_score: 28.30 | epsilon: 0.01000000 |\n",
            "| game:       8800| score: 11.00 | avg_score: 9.37 | epsilon: 0.01000000 |\n",
            "| game:       8900| score: 16.00 | avg_score: 13.40 | epsilon: 0.01000000 |\n",
            "| game:       9000| score: 9.00 | avg_score: 20.90 | epsilon: 0.01000000 |\n",
            "| game:       9100| score: 44.00 | avg_score: 20.99 | epsilon: 0.01000000 |\n",
            "| game:       9200| score: 38.00 | avg_score: 44.08 | epsilon: 0.01000000 |\n",
            "| game:       9300| score: 10.00 | avg_score: 58.72 | epsilon: 0.01000000 |\n",
            "| game:       9400| score: 187.00 | avg_score: 107.40 | epsilon: 0.01000000 |\n",
            "| game:       9500| score: 133.00 | avg_score: 117.64 | epsilon: 0.01000000 |\n",
            "| game:       9600| score: 114.00 | avg_score: 132.45 | epsilon: 0.01000000 |\n",
            "| game:       9700| score: 107.00 | avg_score: 122.49 | epsilon: 0.01000000 |\n",
            "| game:       9800| score: 139.00 | avg_score: 118.72 | epsilon: 0.01000000 |\n",
            "| game:       9900| score: 392.00 | avg_score: 163.35 | epsilon: 0.01000000 |\n",
            "\n"
          ],
          "name": "stdout"
        }
      ]
    },
    {
      "cell_type": "code",
      "metadata": {
        "colab": {
          "base_uri": "https://localhost:8080/",
          "height": 279
        },
        "id": "FmwYwHlX4zWO",
        "outputId": "197d4e77-f1e9-4dc9-bb72-a4bbf7ea5fed"
      },
      "source": [
        "filename = 'cartpole_naive_dqn.png'\n",
        "x = [i + 1 for i in range(n_games)]\n",
        "plot_learning_curve(x, scores, eps_history, filename)"
      ],
      "execution_count": 5,
      "outputs": [
        {
          "output_type": "display_data",
          "data": {
            "image/png": "[encoded data removed]",
            "text/plain": [
              "<Figure size 432x288 with 2 Axes>"
            ]
          },
          "metadata": {
            "tags": [],
            "needs_background": "light"
          }
        }
      ]
    },
    {
      "cell_type": "code",
      "metadata": {
        "id": "sauMLNwk5CLk"
      },
      "source": [
        ""
      ],
      "execution_count": null,
      "outputs": []
    }
  ]
}